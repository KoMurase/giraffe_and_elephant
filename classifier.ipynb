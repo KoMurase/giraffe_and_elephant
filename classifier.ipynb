{
  "nbformat": 4,
  "nbformat_minor": 0,
  "metadata": {
    "colab": {
      "name": "classifier.ipynb",
      "version": "0.3.2",
      "provenance": [],
      "include_colab_link": true
    },
    "kernelspec": {
      "name": "python3",
      "display_name": "Python 3"
    },
    "accelerator": "GPU"
  },
  "cells": [
    {
      "cell_type": "markdown",
      "metadata": {
        "id": "view-in-github",
        "colab_type": "text"
      },
      "source": [
        "<a href=\"https://colab.research.google.com/github/KoMurase/giraffe_and_elephant/blob/master/classifier.ipynb\" target=\"_parent\"><img src=\"https://colab.research.google.com/assets/colab-badge.svg\" alt=\"Open In Colab\"/></a>"
      ]
    },
    {
      "cell_type": "code",
      "metadata": {
        "id": "LlyAzzBuShRg",
        "colab_type": "code",
        "colab": {}
      },
      "source": [
        "#ネットワーク生成関数\n",
        "from torch import nn \n",
        "from torchvision import transforms, models \n",
        "\n",
        "def create_network():\n",
        "  \n",
        "  #パラメータは後でセットするのでpretrained=Trueは必要ない\n",
        "  #net = models.resnet18()\n",
        "  params = torch.load('net.prm',map_location='cpu')\n",
        "  net.load_state_dict(params)\n",
        "  \n",
        "  \n",
        "  #最後の層を2出力の線形層に付け替え\n",
        "  fc_input_dim = net.fc.in_features\n",
        "  net.fc = nn.Linear(fc_net_dim, 2)\n",
        "  return net \n",
        "\n",
        "class Classifier(object):\n",
        "  def __init__(self, params):\n",
        "    #識別のネットワークを作成\n",
        "    self.net = creat_network()\n",
        "    #学習済みのパラメータセット\n",
        "    self.net.load_state_dict(params)\n",
        "    #評価モードにする\n",
        "    self.net.eval()\n",
        "    #画像を整形してTensorにする関数\n",
        "    self.transformer = transforms.Compose([\n",
        "        transforms.CenterCrop(150), #画像のサイズ\n",
        "        transforms.ToTensor()\n",
        "    ])\n",
        "    #クラスのIDと名前の対応\n",
        "    self.classes = [\"elephant\",\"giraffe\"]"
      ],
      "execution_count": 0,
      "outputs": []
    },
    {
      "cell_type": "code",
      "metadata": {
        "id": "lLfCOm9aVmPw",
        "colab_type": "code",
        "colab": {}
      },
      "source": [
        "def predict(self, img):\n",
        "  #画像を整形してTensorに変換\n",
        "  x = self.transformer(img)\n",
        "  #PyTorchは常にバッチで処理をするので\n",
        "  #batchの次元を頭に追加\n",
        "  x = x.sequeeze(0)\n",
        "  #ネットワークの出力を計算\n",
        "  out = self.net(x)\n",
        "  out = out.max(1)[1].item()\n",
        "  #予測されたクラス名を返す\n",
        "  return self.classes[out]"
      ],
      "execution_count": 0,
      "outputs": []
    },
    {
      "cell_type": "code",
      "metadata": {
        "id": "TPScvGMwWrEI",
        "colab_type": "code",
        "colab": {}
      },
      "source": [
        ""
      ],
      "execution_count": 0,
      "outputs": []
    }
  ]
}